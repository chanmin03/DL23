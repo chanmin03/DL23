{
  "nbformat": 4,
  "nbformat_minor": 0,
  "metadata": {
    "colab": {
      "provenance": [],
      "include_colab_link": true
    },
    "kernelspec": {
      "name": "python3",
      "display_name": "Python 3"
    },
    "language_info": {
      "name": "python"
    }
  },
  "cells": [
    {
      "cell_type": "markdown",
      "metadata": {
        "id": "view-in-github",
        "colab_type": "text"
      },
      "source": [
        "<a href=\"https://colab.research.google.com/github/chanmin03/DL23/blob/main/DL/DLW02d.ipynb\" target=\"_parent\"><img src=\"https://colab.research.google.com/assets/colab-badge.svg\" alt=\"Open In Colab\"/></a>"
      ]
    },
    {
      "cell_type": "markdown",
      "source": [
        "---\n",
        "# 📗 Topic [2]: Coding basic #2\n",
        "---\n",
        "Keywords:\n",
        "\n",
        "+ variables\n",
        "+ **operators**\n",
        "+ **data types: list and dictionary**"
      ],
      "metadata": {
        "id": "k4A5_MYHpcNQ"
      }
    },
    {
      "cell_type": "markdown",
      "source": [
        "Your github IDs [here](https://docs.google.com/spreadsheets/d/17SX51lCqOdtvC7cAGoX5tP9fKwVdGY5sRzMg2pXh9uk/edit#gid=0) - revised 0327"
      ],
      "metadata": {
        "id": "mUVgzk50XMkt"
      }
    },
    {
      "cell_type": "markdown",
      "source": [
        "## [1] Variables"
      ],
      "metadata": {
        "id": "93gQaEo1RX63"
      }
    },
    {
      "cell_type": "markdown",
      "source": [
        "+ **A variable** is a named storage location that holds a value.\n",
        "+ Variables can be used **to store values** such as numbers, strings, lists, or other data types. \n",
        "+ The value of a variable can change throughout the execution of a program. \n",
        "+ To declare a variable in Python, you need to assign a value to it using the **equal (=) sign.**"
      ],
      "metadata": {
        "id": "jJT4hD1teuJr"
      }
    },
    {
      "cell_type": "code",
      "source": [
        "x = 10\n",
        "y = \"Hello, class!\"\n",
        "z = [1, 2, 3]"
      ],
      "metadata": {
        "id": "Xes87bY2X45M"
      },
      "execution_count": 8,
      "outputs": []
    },
    {
      "cell_type": "markdown",
      "source": [
        "↗️ In the above example, 'x' is assigned the value of 10, 'y' is assigned the value of \"Hello, World!\", and 'z' is assigned the value of [1, 2, 3]."
      ],
      "metadata": {
        "id": "ulw6QsP5ZiKp"
      }
    },
    {
      "cell_type": "code",
      "source": [
        "# We can assign a link or a function\n",
        "import pandas as pd\n",
        "url = \"https://github.com/MK316/Spring2023/raw/main/data/att_sample.csv\"\n",
        "data = pd.read_csv(url)\n",
        "data"
      ],
      "metadata": {
        "id": "_7bvpJt2aQmg",
        "outputId": "3190f607-8d27-42be-cf34-23753850f857",
        "colab": {
          "base_uri": "https://localhost:8080/",
          "height": 488
        }
      },
      "execution_count": 9,
      "outputs": [
        {
          "output_type": "execute_result",
          "data": {
            "text/plain": [
              "      Names\n",
              "0      Mary\n",
              "1      John\n",
              "2       Tim\n",
              "3       Bob\n",
              "4     Sarah\n",
              "5      Kate\n",
              "6     Marie\n",
              "7   Johnson\n",
              "8      Mike\n",
              "9     Harry\n",
              "10      Jin\n",
              "11      Sam\n",
              "12     Paul\n",
              "13  Natalie"
            ],
            "text/html": [
              "\n",
              "  <div id=\"df-8896b8ce-ca5b-49f0-a172-b9bf9a262a9d\">\n",
              "    <div class=\"colab-df-container\">\n",
              "      <div>\n",
              "<style scoped>\n",
              "    .dataframe tbody tr th:only-of-type {\n",
              "        vertical-align: middle;\n",
              "    }\n",
              "\n",
              "    .dataframe tbody tr th {\n",
              "        vertical-align: top;\n",
              "    }\n",
              "\n",
              "    .dataframe thead th {\n",
              "        text-align: right;\n",
              "    }\n",
              "</style>\n",
              "<table border=\"1\" class=\"dataframe\">\n",
              "  <thead>\n",
              "    <tr style=\"text-align: right;\">\n",
              "      <th></th>\n",
              "      <th>Names</th>\n",
              "    </tr>\n",
              "  </thead>\n",
              "  <tbody>\n",
              "    <tr>\n",
              "      <th>0</th>\n",
              "      <td>Mary</td>\n",
              "    </tr>\n",
              "    <tr>\n",
              "      <th>1</th>\n",
              "      <td>John</td>\n",
              "    </tr>\n",
              "    <tr>\n",
              "      <th>2</th>\n",
              "      <td>Tim</td>\n",
              "    </tr>\n",
              "    <tr>\n",
              "      <th>3</th>\n",
              "      <td>Bob</td>\n",
              "    </tr>\n",
              "    <tr>\n",
              "      <th>4</th>\n",
              "      <td>Sarah</td>\n",
              "    </tr>\n",
              "    <tr>\n",
              "      <th>5</th>\n",
              "      <td>Kate</td>\n",
              "    </tr>\n",
              "    <tr>\n",
              "      <th>6</th>\n",
              "      <td>Marie</td>\n",
              "    </tr>\n",
              "    <tr>\n",
              "      <th>7</th>\n",
              "      <td>Johnson</td>\n",
              "    </tr>\n",
              "    <tr>\n",
              "      <th>8</th>\n",
              "      <td>Mike</td>\n",
              "    </tr>\n",
              "    <tr>\n",
              "      <th>9</th>\n",
              "      <td>Harry</td>\n",
              "    </tr>\n",
              "    <tr>\n",
              "      <th>10</th>\n",
              "      <td>Jin</td>\n",
              "    </tr>\n",
              "    <tr>\n",
              "      <th>11</th>\n",
              "      <td>Sam</td>\n",
              "    </tr>\n",
              "    <tr>\n",
              "      <th>12</th>\n",
              "      <td>Paul</td>\n",
              "    </tr>\n",
              "    <tr>\n",
              "      <th>13</th>\n",
              "      <td>Natalie</td>\n",
              "    </tr>\n",
              "  </tbody>\n",
              "</table>\n",
              "</div>\n",
              "      <button class=\"colab-df-convert\" onclick=\"convertToInteractive('df-8896b8ce-ca5b-49f0-a172-b9bf9a262a9d')\"\n",
              "              title=\"Convert this dataframe to an interactive table.\"\n",
              "              style=\"display:none;\">\n",
              "        \n",
              "  <svg xmlns=\"http://www.w3.org/2000/svg\" height=\"24px\"viewBox=\"0 0 24 24\"\n",
              "       width=\"24px\">\n",
              "    <path d=\"M0 0h24v24H0V0z\" fill=\"none\"/>\n",
              "    <path d=\"M18.56 5.44l.94 2.06.94-2.06 2.06-.94-2.06-.94-.94-2.06-.94 2.06-2.06.94zm-11 1L8.5 8.5l.94-2.06 2.06-.94-2.06-.94L8.5 2.5l-.94 2.06-2.06.94zm10 10l.94 2.06.94-2.06 2.06-.94-2.06-.94-.94-2.06-.94 2.06-2.06.94z\"/><path d=\"M17.41 7.96l-1.37-1.37c-.4-.4-.92-.59-1.43-.59-.52 0-1.04.2-1.43.59L10.3 9.45l-7.72 7.72c-.78.78-.78 2.05 0 2.83L4 21.41c.39.39.9.59 1.41.59.51 0 1.02-.2 1.41-.59l7.78-7.78 2.81-2.81c.8-.78.8-2.07 0-2.86zM5.41 20L4 18.59l7.72-7.72 1.47 1.35L5.41 20z\"/>\n",
              "  </svg>\n",
              "      </button>\n",
              "      \n",
              "  <style>\n",
              "    .colab-df-container {\n",
              "      display:flex;\n",
              "      flex-wrap:wrap;\n",
              "      gap: 12px;\n",
              "    }\n",
              "\n",
              "    .colab-df-convert {\n",
              "      background-color: #E8F0FE;\n",
              "      border: none;\n",
              "      border-radius: 50%;\n",
              "      cursor: pointer;\n",
              "      display: none;\n",
              "      fill: #1967D2;\n",
              "      height: 32px;\n",
              "      padding: 0 0 0 0;\n",
              "      width: 32px;\n",
              "    }\n",
              "\n",
              "    .colab-df-convert:hover {\n",
              "      background-color: #E2EBFA;\n",
              "      box-shadow: 0px 1px 2px rgba(60, 64, 67, 0.3), 0px 1px 3px 1px rgba(60, 64, 67, 0.15);\n",
              "      fill: #174EA6;\n",
              "    }\n",
              "\n",
              "    [theme=dark] .colab-df-convert {\n",
              "      background-color: #3B4455;\n",
              "      fill: #D2E3FC;\n",
              "    }\n",
              "\n",
              "    [theme=dark] .colab-df-convert:hover {\n",
              "      background-color: #434B5C;\n",
              "      box-shadow: 0px 1px 3px 1px rgba(0, 0, 0, 0.15);\n",
              "      filter: drop-shadow(0px 1px 2px rgba(0, 0, 0, 0.3));\n",
              "      fill: #FFFFFF;\n",
              "    }\n",
              "  </style>\n",
              "\n",
              "      <script>\n",
              "        const buttonEl =\n",
              "          document.querySelector('#df-8896b8ce-ca5b-49f0-a172-b9bf9a262a9d button.colab-df-convert');\n",
              "        buttonEl.style.display =\n",
              "          google.colab.kernel.accessAllowed ? 'block' : 'none';\n",
              "\n",
              "        async function convertToInteractive(key) {\n",
              "          const element = document.querySelector('#df-8896b8ce-ca5b-49f0-a172-b9bf9a262a9d');\n",
              "          const dataTable =\n",
              "            await google.colab.kernel.invokeFunction('convertToInteractive',\n",
              "                                                     [key], {});\n",
              "          if (!dataTable) return;\n",
              "\n",
              "          const docLinkHtml = 'Like what you see? Visit the ' +\n",
              "            '<a target=\"_blank\" href=https://colab.research.google.com/notebooks/data_table.ipynb>data table notebook</a>'\n",
              "            + ' to learn more about interactive tables.';\n",
              "          element.innerHTML = '';\n",
              "          dataTable['output_type'] = 'display_data';\n",
              "          await google.colab.output.renderOutput(dataTable, element);\n",
              "          const docLink = document.createElement('div');\n",
              "          docLink.innerHTML = docLinkHtml;\n",
              "          element.appendChild(docLink);\n",
              "        }\n",
              "      </script>\n",
              "    </div>\n",
              "  </div>\n",
              "  "
            ]
          },
          "metadata": {},
          "execution_count": 9
        }
      ]
    },
    {
      "cell_type": "markdown",
      "source": [
        "## Commenting '#'\n",
        "\n",
        "- In Python, the # symbol is used to indicate comment lines. A comment is a line of text in a code that is ignored by the Python interpreter and is used to provide explanations or notes for the reader of the code.\n",
        "\n",
        "## Uncommenting shortcut: \n",
        "* \"Ctrl + /\" (Place the cursor on the code line and press the Control + / key.)"
      ],
      "metadata": {
        "id": "xZv9R8I8ZWvt"
      }
    },
    {
      "cell_type": "code",
      "source": [
        "# This is a comment in Python\n",
        "x = 10 # this is also a comment #샵 옆에 쓰는 코멘트는 컴퓨터가 안 읽음음"
      ],
      "metadata": {
        "id": "7UJmbmmTaFx9"
      },
      "execution_count": 2,
      "outputs": []
    },
    {
      "cell_type": "code",
      "source": [
        "x1 = x * 10\n",
        "x2 = x + 5\n",
        "\n",
        "#print(x1) # Print the value of x1\n",
        "# print(x1, x2) # Print the values of x1 and x2"
      ],
      "metadata": {
        "id": "Ivc72tB0X_TS"
      },
      "execution_count": 4,
      "outputs": []
    },
    {
      "cell_type": "code",
      "source": [
        "print(y)\n",
        "# y1 = y + \"Welcome to the class.\"\n",
        "z1 = x1 * x2\n",
        "x = \"John\"\n",
        "y = \"came in.\"\n",
        "z1 = x * 10\n",
        "print(z1)"
      ],
      "metadata": {
        "id": "cxePqv-52RU0",
        "outputId": "ae9d995b-77e1-4692-a3dd-fcd2f84e0bb1",
        "colab": {
          "base_uri": "https://localhost:8080/"
        }
      },
      "execution_count": 22,
      "outputs": [
        {
          "output_type": "stream",
          "name": "stdout",
          "text": [
            "came in.\n",
            "JohnJohnJohnJohnJohnJohnJohnJohnJohnJohn\n"
          ]
        }
      ]
    },
    {
      "cell_type": "markdown",
      "source": [
        "Input types:\n",
        "\n",
        "* integer: e.g., -3, 1, 0, 234, etc.\n",
        "* float: e.g., -3.0, 1.2, 0, 3.141592653589793238, etc.\n",
        "* string: (characters) \"1\", '0', \"3.29\", \"Mary\", \"euphoria\", 'My name is Jane.'\n",
        "\n",
        "_Note:_ double or single quotation marks denote **string** data. (Open and close should match.)"
      ],
      "metadata": {
        "id": "4zDbyBHbeQsq"
      }
    },
    {
      "cell_type": "code",
      "source": [
        "# DIY\n",
        "x = 1\n",
        "y = 3\n",
        "z = x + y\n",
        "print(z)\n",
        "\n",
        "x1 = \"1\"\n",
        "y1 = \"3\"\n",
        "z1 = x1 + y1\n",
        "print(z1)"
      ],
      "metadata": {
        "colab": {
          "base_uri": "https://localhost:8080/"
        },
        "id": "yzZuC29QfP3T",
        "outputId": "cc48abe2-cccb-45e5-9752-bd78614c8d42"
      },
      "execution_count": 16,
      "outputs": [
        {
          "output_type": "stream",
          "name": "stdout",
          "text": [
            "4\n",
            "13\n"
          ]
        }
      ]
    },
    {
      "cell_type": "code",
      "source": [
        "type(z)"
      ],
      "metadata": {
        "colab": {
          "base_uri": "https://localhost:8080/"
        },
        "id": "qwDb8cf5fkKi",
        "outputId": "4079e211-ba2e-4faf-a07f-52e27d7af753"
      },
      "execution_count": 23,
      "outputs": [
        {
          "output_type": "execute_result",
          "data": {
            "text/plain": [
              "int"
            ]
          },
          "metadata": {},
          "execution_count": 23
        }
      ]
    },
    {
      "cell_type": "code",
      "source": [
        "type(z1)"
      ],
      "metadata": {
        "colab": {
          "base_uri": "https://localhost:8080/"
        },
        "id": "L7sxvSaOfsOt",
        "outputId": "ee4c499a-5450-4322-c11a-a8200270cfc2"
      },
      "execution_count": 24,
      "outputs": [
        {
          "output_type": "execute_result",
          "data": {
            "text/plain": [
              "str"
            ]
          },
          "metadata": {},
          "execution_count": 24
        }
      ]
    },
    {
      "cell_type": "code",
      "source": [
        "print(type(z), type(z1))"
      ],
      "metadata": {
        "colab": {
          "base_uri": "https://localhost:8080/"
        },
        "id": "bbFaL_GWfwMH",
        "outputId": "f3d179e1-e314-4634-d8d0-8010c05c6d44"
      },
      "execution_count": 25,
      "outputs": [
        {
          "output_type": "stream",
          "name": "stdout",
          "text": [
            "<class 'int'> <class 'str'>\n"
          ]
        }
      ]
    },
    {
      "cell_type": "markdown",
      "source": [
        "## [2] Operators\n",
        "\n",
        "* Symbols that perform operations on values and variables. \n",
        "* They are used to perform arithmetic and logical operations, and they can also be used to manipulate and compare values. "
      ],
      "metadata": {
        "id": "5JgA2T2dRft5"
      }
    },
    {
      "cell_type": "markdown",
      "source": [
        "1. Arithmetic Operators: +, -, *, /, %, ** (for exponentiation)\n",
        "2. semicolon ';' - separate multiple statements (code lines) on a single line."
      ],
      "metadata": {
        "id": "NJBgu_O4bczL"
      }
    },
    {
      "cell_type": "code",
      "source": [
        "x = 2; y = 5\n",
        "\n",
        "a1 = x + y\n",
        "a2 = x - y\n",
        "a3 = x * y\n",
        "a4 = x / y\n",
        "a5 = x ** y"
      ],
      "metadata": {
        "id": "dXT3pIzobUHU"
      },
      "execution_count": 26,
      "outputs": []
    },
    {
      "cell_type": "code",
      "source": [
        "print(a1, a2, a3, a4, a5)"
      ],
      "metadata": {
        "colab": {
          "base_uri": "https://localhost:8080/"
        },
        "id": "_m3JBsOKd6Uv",
        "outputId": "7c64b6a6-62ae-4a1f-dd69-62a0464e9b04"
      },
      "execution_count": 27,
      "outputs": [
        {
          "output_type": "stream",
          "name": "stdout",
          "text": [
            "7 -3 10 0.4 32\n"
          ]
        }
      ]
    },
    {
      "cell_type": "code",
      "source": [
        "print(\"The value of a5:\", a5)"
      ],
      "metadata": {
        "colab": {
          "base_uri": "https://localhost:8080/"
        },
        "id": "5kq7I3nMd0Xi",
        "outputId": "5e1dece1-d333-441f-e699-7097afdf196e"
      },
      "execution_count": 29,
      "outputs": [
        {
          "output_type": "stream",
          "name": "stdout",
          "text": [
            "The value of a5: 32\n"
          ]
        }
      ]
    },
    {
      "cell_type": "markdown",
      "source": [
        "# 🌱 Define a function\n",
        "\n",
        "Demo 🔢 Calculator"
      ],
      "metadata": {
        "id": "Cx1NyWUAybc8"
      }
    },
    {
      "cell_type": "code",
      "source": [
        "# This function adds two numbers\n",
        "def add(x, y): \n",
        "    return x + y #결과를 return\n",
        "\n",
        "# This function subtracts two numbers\n",
        "def subtract(x, y):\n",
        "    return x - y\n",
        "\n",
        "# This function multiplies two numbers\n",
        "def multiply(x, y):\n",
        "    return x * y\n",
        "\n",
        "# This function divides two numbers\n",
        "def divide(x, y):\n",
        "    return x / y\n"
      ],
      "metadata": {
        "id": "Dod3_zgYdsWe"
      },
      "execution_count": 33,
      "outputs": []
    },
    {
      "cell_type": "code",
      "source": [
        "# DIY: define a function names switch(x, y), where the input x, y changes its position in the output.\n",
        "\n",
        "def switch(x,y):\n",
        "  return print(y,x)"
      ],
      "metadata": {
        "id": "W9CuAaqXgwb5"
      },
      "execution_count": 35,
      "outputs": []
    },
    {
      "cell_type": "code",
      "source": [
        "switch(\"찬민\", \"이\")"
      ],
      "metadata": {
        "id": "bkHGKXs7aCA1",
        "outputId": "1510a64e-379f-4290-d819-e9aa9bafe007",
        "colab": {
          "base_uri": "https://localhost:8080/"
        }
      },
      "execution_count": 40,
      "outputs": [
        {
          "output_type": "stream",
          "name": "stdout",
          "text": [
            "이 찬민\n"
          ]
        }
      ]
    },
    {
      "cell_type": "code",
      "source": [
        "add(1200,34)"
      ],
      "metadata": {
        "id": "br8NXBwtMpMI",
        "outputId": "0fd68149-770c-4110-96ec-91cd066ac9a0",
        "colab": {
          "base_uri": "https://localhost:8080/"
        }
      },
      "execution_count": 36,
      "outputs": [
        {
          "output_type": "execute_result",
          "data": {
            "text/plain": [
              "1234"
            ]
          },
          "metadata": {},
          "execution_count": 36
        }
      ]
    },
    {
      "cell_type": "code",
      "source": [
        "# Test\n",
        "\n",
        "add(2,3)\n",
        "subtract(3,2)\n",
        "multiply(2,3)\n",
        "divide(3,2)"
      ],
      "metadata": {
        "id": "IoHh-U2GBsqH",
        "outputId": "ee3a9f1e-72e3-459b-c45f-d80d0aa12587",
        "colab": {
          "base_uri": "https://localhost:8080/"
        }
      },
      "execution_count": 41,
      "outputs": [
        {
          "output_type": "execute_result",
          "data": {
            "text/plain": [
              "1.5"
            ]
          },
          "metadata": {},
          "execution_count": 41
        }
      ]
    },
    {
      "cell_type": "markdown",
      "source": [
        "## Using dropbox format"
      ],
      "metadata": {
        "id": "eOluPoNqCCE1"
      }
    },
    {
      "cell_type": "code",
      "source": [
        "#@markdown 🔄 Making functions: tts('text')\n",
        "%%capture\n",
        "!pip install gTTS\n",
        "from gtts import gTTS\n",
        "from IPython.display import Audio\n",
        "\n",
        "def tts(text):\n",
        "  text_to_say = text\n",
        "\n",
        "  gtts_object = gTTS(text = text_to_say,\n",
        "                     lang = \"en\", tld = \"us\",\n",
        "                    slow = True)\n",
        "  \n",
        "  gtts_object.save(\"E-audio.mp3\")\n",
        "  return Audio(\"E-audio.mp3\")"
      ],
      "metadata": {
        "id": "nRtyN0p6NoKA"
      },
      "execution_count": 42,
      "outputs": []
    },
    {
      "cell_type": "code",
      "source": [
        "func = \"multiply\" #@param = [\"add\",\"subtract\",\"multiply\",\"divide\"]\n",
        "digits = input(\"Type two numbers: (e.g., 3,4)\")\n",
        "digitsplit = digits.split(',')\n",
        "d1 = int(digitsplit[0])\n",
        "d2 = int(digitsplit[1])\n",
        "\n",
        "if func == \"add\":\n",
        "  result = add(d1,d2)\n",
        "  text = \"The addition of %d and %d equals %d.\"%(d1,d2,result)\n",
        "elif func == \"subtract\":\n",
        "  result = subtract(d1,d2)\n",
        "  text = \"If you subtract %d from %d, you get %d.\"%(d2,d1,result)\n",
        "elif func == \"divide\":\n",
        "  result = divide(d1,d2)\n",
        "  text = \"When you divide %d by %d, you get %d.\"%(d1,d2,result)\n",
        "elif func == \"multiply\":\n",
        "  result = multiply(d1,d2)\n",
        "  text = \"%d multiplied by %d is %d.\"%(d1,d2,result)\n",
        "\n",
        "print(text)\n",
        "tts(text)\n",
        "Audio(\"E-audio.mp3\", autoplay = True)"
      ],
      "metadata": {
        "id": "FT47bY6qBo3k",
        "outputId": "c5245443-f334-41c6-f973-d2488d2700ef",
        "colab": {
          "base_uri": "https://localhost:8080/",
          "height": 111
        }
      },
      "execution_count": 50,
      "outputs": [
        {
          "output_type": "stream",
          "name": "stdout",
          "text": [
            "Type two numbers: (e.g., 3,4)12,32\n",
            "12 multiplied by 32 is 384.\n"
          ]
        },
        {
          "output_type": "execute_result",
          "data": {
            "text/plain": [
              "<IPython.lib.display.Audio object>"
            ],
            "text/html": [
              "\n",
              "                <audio  controls=\"controls\" autoplay=\"autoplay\">\n",
              "                    <source src=\"data:audio/mpeg;base64,//NExAAPuDnYAUkYAGEwuAMAYGyeSAVisVo0YPlAfB8H3lwfP4P/4Pv//wf8Tg4CGD4IAhWDgIAhLggCAYg4CAIOggCDv/+GMuDgILPTFQku2EmQkHa9S9zJHn/u2/bv//NExBQXSyo8AZs4AGXCQfJkyRL6NOJj4/+x/II537/PMZx87+f+SGhYgI4Pxv/z3ZX+QOESOD5Ir//7H/PPcboxjHucYf//57mdL7exiqpxhZlUiPtVvZgrWjiJlJjZ//NExAkR+d64AYhAABPbv33Xona/fWn//ER2g23/+/QgYekFIMvtIp8bLIfNwr2E0P///kaWr9lFwMcnf+cJvxCNMTP/RZz+WUZbIgSJr4tdBBLFqueJqt9Je/UR2myo//NExBQWSeagAcgwAKMR9NA1ZpYgPpyZFFN7/09p9f+jvdN63dytme9TVJPWlO2K379is+bnZb/DZSCYIh44LJLHat9+tdCjwBTnSZ6oFXuBpNUGZ5fyfgiRDhMgycpJ//NExA0UUZaYAEpGlM3ZUoFw3QgcfQuJUFTYViiHtdUcSdD4rBbKy2u1rYeq9UMqrJ1ZCmxtDmdLBH2jBQBlXlAhM1H/JXqo/emzTI3LWP0F1QLZuUGYLCHCcrMuCJZ8//NExA4VSPaMAEpScA+qSAtEcE41wNGRKPUFRAaVe+GlmoNQdXSjU8RKVFhO2CbXgqJQWEIsEiQ7IgsPUDRssFFzQiUJRctDSn9i//28jU9i9hLIqmmw/G4aQCGLjnZb//NExAsRIK6EANPYTJbpTgIYAiC4AIgiDOqDsE0XCVONEJgPlcmHqJgnFppf8Tm9ees0DRYkHVFnXHiTjwuaYLu2v6rEfqqBrUzYeIwCXRMTJxKPQlbRkECngVWGBJLm//NExBkSWOKAAOcEcC1dGY0SIZQ9sglTvEQLvzE5rUDYerBgxLVX4a2UMXJbbQu5TNmnQPa34H//////vTWd5qvABLuC7md2KsXKvYJiB4JqV24AwEMWHkrZPN4xgZDQ//NExCIQqSqcAM7KcHEbDHvqSyGXfrCmFgG+zO3U5+qeiv2qfERcP/y/BNv8iuY/jWIAoGOWcsay5TGQ102DMfh+AFSh9STQdQZOPTItOi8IU8ZrMAv4KUPPcpHkOs/8//NExDISSfqwANUEmNPp8Z59D+ifT7PVEVP/79PmEP/////1VVtpmoHGVtEgw6ohHLNTcUEC53OBBkp1i8KwlPG7WO24tYQjGYQswI2hbPb9tgv9/4jkIMgSWakOuMg0//NExDsSoNK0AI5ecA4JwKG3QlsW1xQn+zYkaOVHykBGiJmiBmgtIwuEgO5FrNKsEQZZVJb+MNJzL0Lvs3ubqkIpA2xQyBlAbJIZUllxAsFg2sFUtF9N4mLO9XmDyiJp//NExEMRqMa4AJYScO+z1UI77CvAN3Im5cUWRTAJOFkLesZU1UyqTGKe23S6lUiMUJOCX5YfGYNmOf+9U1Xn/WX5So3UqfovlKDF/3sP9knXxs/oWZ2+n/yulHe/3CJj//NExE8SMU6wAJ5ElXFb8rj965NqGgsg0Cnt3pU8Jio8ByKU52qEYFh2CMb1f/GUzn///rf/6t//R//4USdVVbDp8z+gIWI3wr+v0ae3rerrRALUR8lH29TbSDVxY3SX//NExFkROa6oAMaElKtPNaGBIAHPlT7t5vyFwhEEx1zm+XbH///+Pfyf///+jgiVaVi/qIbqgI663ch265B3+/fh0nGPtaQ9GNSonYe2C48u3Z20hMNQlfkN4SyWdL6O//NExGcRAbqcANaElB9/XP3Xs////4f+/9///+pl0eHDfkVvRRT6ADyvZyX//6mp+f50iZYW3p507v2MZWVAQGbWh0hNl8mCXJoExADVMljVRMRuA1CD0tHy0l+/5Dfp//NExHYRMbqcAMZElP1/v+Jo+1le/b6h8Jqr96Kz1q2f//ShlPd623cxczrsIjoLYLTRMRhgEw4gf+MYVoOdkxuDlbp67sOKnE7t7P889d1////3/+v///90u8j3a7/p//NExIQR8baYANUKlJUKJIvf9bN9H//++oUVsZcv+gWNkZ3IJRK4dbQgKelLCwDA0hjbNiIEn5LQUY4ne8dzc7UQVTeEb/m5/fwZTBH1qDK4l/DN/hv1x+Cz/zo+6FzO//NExI8SUaqUAM4ElLL/Ho9ctRu/p//WAjXLYXx6OHrwY6oKbI4CKZ4nYa1vOF1YQYUCMNWqFnjUZYIs71mjhm1rn4sUQTXbCA6kVDbqFW0uRHP4yrQ4YMoUxgoSA4gq//NExJgWiS6IAMJGceZhagIZ4EgYnNo8m+TTLDQfZnehcTpLAGbdSE0etQZSNONpYaj4mc/8Tqougn/f/+efmV1pcU93P/7v/43kuwmE3NssovyqCjiloYRHW5Dp069c//NExJAPECKYADDGAB0t/KeCQSDBwcLDInQQKSxG3O6Ro2IYRpfiEDmPpW85rcMQCOFSOPGHnkXKniVlGWNyyo3hTqxF//9TUoWQYq38ccMwILDuDoMfgZHR/UdTFKLM//NExKYSaI6QAEhGTToAMlOxKCvI2FCk0q6QodVWSVTMTZAYx8HwjM6gyqqHT/3E3nl1BlYHBxH+QxDcin+uhYxEYIWyITI9FjRsJANpxAJGuILNpDlMgwyWxdbgU+ap//NExK8RwN6EANJGcPKhZeVJ+ErHjFwwELcN+jzOvimWzmKlXEARkZHo2aRv//ueigmsNHWjEjXYYVMp0sLA4DqqMTCAmLa8aBbq2qIt53W8PkPcKEqli9eYmU70ot37//NExLsR4PZ4AOPQcE9DTr+Wsofx5+c9jVgFe5QHREiBfO1EDQx6N/1eyqezMObOvX63tIWDqaC2tDMaOsAgAQqBxAwExNWajMiAtKYSArPgZThdcEJ0CEbfQ5DEOqHp//NExMYRuYaEANvElWcr65Dgr2lliIRxlnNbyhjDDDcltvnF1aIhxXcwuRmoREQEO6Jf29PDk4cz239dSrc9Zf8DAJ3AmLFKSxVADDDk01AMGMzPBsQhCKY5IAYVFJ3n//NExNIU6Y6AAOYKlFjHLTmj3IdiIiyE5bEYGpRv8KmQg3G5RXUXbjFsfyYnI+bzlmX6/C/+95kY1WpM063ZdZ0+ckwQoNsnGjJEojuSjaJTNz50uDjHIeSnEO7dSDaJ//NExNEWmX6IAN4KlJu4uHzIYDwEUJ///9WtexX7daOkIoCq2nOnAowBNtbFldynlpKKmaATtxNRQvsb+LqX0kNA0IOFIggGZZL0EJjAKDhuRfBKITD5/9VYanP+5fOf//NExMkheeaQAN6amAlNfJp/xVctuvcf7eTR+AMHXJqO0h6u0Uz720XExjWmpeXKiCZADlBhQ1oCGIFTSwT////0qrX/8qMdx/c8poZMB69zl1rJoiaecNve2MwQs1YO//NExJYeCZqcANbWlA+UQaYZycE2weXYQ0ypg/cq0Si1j/3S4d/1Y+YqaGP/2TUrPKYQDQAIURIdpWM3FREXEoCdFbwHoqcebsTVnfxrOiQe0Ny/EnaP9pxamLPjHyP1//NExHAWiZasAM6KlBZzLo4y8zHgxOBIbTFQQg0pfm9Vrjf//47lnP/HLn921KnK3/lTUrPoPDobUpleYxxyupB4JHMXAiloqcoq9Czalc+b+2ACoGt2KaNLxNVtM6Fd//NExGgVkaKkAM5KlKvWGDHH0GnDsgpYQFTQLzKWNbsyVYFGm/zDOGc+8/GU2Of/9w5Sv5f//+UzOZwKKK/Ej9DMUKd/Of2rXf5TS2S5r9r8cLsGDIk0piI6qt2YMYC4//NExGQU6WacANaKlUxSnjib5hBoJwI0zkqZGYwyZY6QBHtvyzKmg+9/77W5/48/n/+r+v7f//vuZSDdSL3KHVaHEHt9eKFIJCd5Gsed5bfk6QuR36sqhkz6sSsaNSUF//NExGMTobKcANaElIgCUAGlCkkXVuM6AARIgSSbLJkkPU7ff5vqn///5lWtRQiofWEjqg0f71itDiyCpSd///2ZGnrrY5XTDRjqnBoNLqkmAIs6GE2A12F2dKuDiFiY//NExGcSYXKcANUElOar12oRJUtmmcQt/PxX6/+K/Oxv///6/o6PV6dkf0M96gIazTdSFaw1///3qRUBIHLoXjLUGp2HVGMnYc8DEy5KsDR2S03OSmzvG5flNFKhICVC//NExHASmb6MANPElJCIKnbMqGuTZVp0zF/R/fOw6S/SV7Ov7P8WXVllkKi3vEPLkD3ZSLK/C7H4+4nsurhTCaMHW593AiEKMgK35508LkfCCECJG3J6uYeDAiRgFQSx//NExHgQYIZoAVoYAIJ+7Xu4kCWMAXAoxgJX/3r3C7GAwC7FQlCnC8Cx//ZFno2ZBDC8LCkGgUCGEwL0QwmBc/v/7sjMfvbxDDg9Fw9EKTDQkJiUehIjgt3ni6CjMsDJ//NExIkfuyJ4AZhQAf7CF2xK5+/U/6qFZOoMMz28fd5sMr/x3PFmG779VPf7u5/7/EPFHQqG/fXbypz1gnQpRhK2ThhRG+Dc9yfb2Ch/UAkZmQNIwKZSqCE+kFuPE4NK//NExF0gIyqkAYVIAJEx//UPOffCH7LAeYWHgiiXAIUJBGJPxOCOxB0uqapYbNE5ykKhoeyCAkMtMwHQqT3v6P74Z9QCQ/yGVLNd6Tdfpf/f7lMUUZv/1+u27qUpUd6m//NExC8SMfqwAcsQAMuUKW8kRlAaPEjISEs7qiKVWNrAUkstbpBWlVP8yFyT1afWMQCYihtbBZEhtRCxCyRZgJM6yRLvKHnGn0fMn3O0UnjvHWaoAngLhuJjppb3PqK9//NExDkVyTKgAMvWcI9/3cfM88x7M4w6KHmDBSncg4hlnudb9z0////dCVWWYclZJtg8sd5Qw5SQVbAUMKUCzDUpbmrYhrS3n5fzcWuxqM4d6bEm3WeCuCcm4jp48Tbw//NExDQSGLaoAMZeTHnz0CHiASUJAYFyK7rPeggbaj+5CqfHxkMYmTGoEGTh0MYdOFmSeRxRjRs1g8bBpV3yUj0pVfL4PSZLK9LsJkhW6K03jKj4AqjtQdg0oSnQZLA0//NExD4SKKaUAM5eTA0eET/+LHv1nVyNMsOXzbkY1Bn7W5owmRAwjMzjo8eYh4ML9AQFXgzt5a6mMrjFHOxqlutZlBIFj7BEbJcVlJZpVnWnbp06hbiz7CH/2qU7QI0a//NExEgQ4K5cAVtIALOybBBQ35ZCeX/DhYJArWSPUAUIWs9kXpYbDoQri3D0QwuUDZznXkRy6F5JHikj3gtyGRFOLMRokOZuKCBx7nHcGD30SbixhgNxeS8dmPk1Vzot//NExFch8xI4AZpAAUfTSKGopaDcO4ZLlVSpSOG3qN65F3LedMUFIQlqr96Hx1H7LtTXcXs/ufTuLjcMhDFXtSugBEdUFz3ZjP7UR5ElenIQgxB4OAupBAQKQPDREUed//NExCIYGyp4AY8oANmYhGGlMQVOQkkhGIRBhRpFFWv5EkRkQoiqlT2f8kiSEUhxrqK//2kan5VKrWVjq///tpJYjSfUiq8piqUaygbG4+oVJOjYrFDKXpzZGTroIJUr//NExBQSQMaQAckYABgecMEo6IN7eCIgYPgYzgaB1iao45hoQHWpVqsblBQak8xFIyGBRJcLq35D+uiXigs2QdOLDBPPUvFe1VszaChQEhAowF30DMopASCmc88v1hFy//NExB4SObKYAEjElNpaG/0+jIz5STyWO1tte73UeKn5obaqHUBIggxeMQ9hTH2oTGa6L3RqLBuGNUIXGb2oH1o4XsAz3vjSCRal7HdsRqWXweghwuiIwXEcYv6qG/8g//NExCgPkHqUAMYMSCBrh/oxE2qV/WVTa8k3Z/c39BJ2ikUVZdWoBlyZssy9zAaXOqAFlmuIeibQDVg1eYODcyafymYjYaKY3hjo63oNKk3Ym43F+fXCpcgs5RbR/3IF//NExDwRgJaMANZwTNG+j1ABxi7/92i9+hmEmF5sVbWFlbsMoOgjQhtiEKk47soS0KzEXoS+7JK0oeYNQut31K2P5afzP/r5c/n/nXrpcJ/+Hxihcm7+FxZ5/ha990qz//NExEkRQMKgAM6wTH5qVxwrN686oOjBamSVliMCOqZOaltNPJWw7DXRRGhl0oBh0MWZtk9jV2e/92//eXfXq+nX+fINdBPTtyav2urvBvHZspF1y+uQJbex1QBzrtcU//NExFcSobqsAMZElDw7htHyCaF0A9CS15gaDjUoeAMajWBIEj7GUwexSK0hwosgXHWgarr9tfQ7a36CqB+BmCrW322ucPdUrSmprrZihb6kBhOFKAVu4wYzGVSMgYGN//NExF8ScTqwAMZacH+zdArLj6Va3p2uoPILSwHIQzIfwjppGBGVOHsx6WtLU2ps61Euu82oo+enrodUaL11VRrWNAMQbblckLe7HgwNjceIgqB+xyLCjpAsks7OACyt//NExGgSOTawAH4acPyiKvKuxPCs4wOsFQX0hGyVSRIrTMpaz2Z6zZtNnWXsnvR//1DLu6WqrmgDcUkeUDd9F0CbtbgBj3IeCTymstBY+XGYKSq5NLabc9a3mOP1Yqxi//NExHIR0SKsAMZacJKoZyfrh5DVmK7m1SttYrTNJ94a554Asl6//+Y/0beVUZbDutocZfnKyY1HebIs+NuwEFX/akiX1JjATHrFqAZzDOr72P91ySvaBUPymcaTFHs3//NExH0R+RqsAH4ecOl6lWvbmv22DL0fkf/+/5JKvWK4iSnHhmIjU32Q7hcUMeDIldYe0DjGdhg0xXS1WOle2P4jtbprsnetoKClBIhdGCd11IbN0Np+yk9pr+71ct0V//NExIgRaSawAMYYcJ+91/B9fKARoEqTSnRncLUvr5FAU+FZsWO/jt/vYBn/3KrHOLQY4u3IshJE4gKCiCbAohChRelu+7NNR2cpgwSSY/rL/oVoETpiwCCPTOF4iyMy//NExJUQWSqsAMTScIPUfEY4yV0BgZdAM06W7DhPNe+re7jnW7/Ktb7qNR81K9tKVqIIBJeECc1xtPX3UxUoGoBBIW37fnisgmeWowjefUoYUIgOZiESY611J0HlHMIk//NExKYRYS6kAMYMcE4L8tIOUzXUbrZnUpSS7naX0kBTQhKV3D+v1xApX6fb6P/A/6x63KLa6f/4O47+1Uk4k0gwdc7qSH3iaSa96oosWGjElV06WiAI1Cmc9mR1Dc5M//NExLMSKSaUANaWcEF0pJla/pEgqB47kVmls/FiK3TM7g3tcuJ5JQ6dEWFyJcjeCFtzc5tLUbcrIz7C8Dz8VevU1MbWY/OtdB5Oky1GEW2FqXgv7pOh4YCgZN4ehZHc//NExL0RiNqEANTGcVnJOoDiAu5gWVJEFITJyapjjmu0SUzWCUIIfHAJc6BJQqcNANUJitTSUbssN9Zms1zVv7YYCsNmPbVQHjNlGuoCAgoDXDomEpHCoKgqrGu+oO6a//NExMkhSfJ0ANPSmA46wUAQOYagZzg0BYEppBwXMRhwStFGQohJBuasND8gHIDzRzVidh+63lvA2sAhq3bHPakkWY9O/V/9n6Ny///9/0o+ijZuRAILumuvnogs6L2w//NExJYQoQp8ANMGcBgwSl2umA6r8zu8qudUNGDokLzdKCyoXpmUrJEyJd6iAkUu0bYxBIAJS/apm+v1o6r+nRejUIGGE3u1VRIgngYALs5Y0cAP3Sw8/ymZqyueUpuD//NExKYRIIZMAOYYSIMBRx6LpGoyQScTtloSVNmiUCThcwAeXeyKRknDcJcC8CqDwTRf3RuiSAwhKGomZs39OaqWiSBFHmMIPA3Hh/U1ddKuOweA5I9CkVpG2r/6NVqa//NExLQSSFJEAVoQABk0eZqlKBfOEgdcuf//1f/on7F81LS4YGajhqbqaTBj9CqAQFUzV5EgMDWjKjkKlsmdgghIHDiICMNj/SlNnFMSlCK7SWmIcDIFleiCQWdA5MDJ//NExL0hmypcAZpoAINiBwBsgBUEHNBCMVMnS6OQKURMUhzDVlIpozCpApk+orkNGyRe50/m6NZ112QWtmXZC6lI5gjVQ684XF6b6loUzNgEMeunuSlEIM7wfg8BxBrb//NExIkfAe6QAdqQANLGjXCWAxB1TOkTbDW+hwG5xru4z8FUYaAC/sYc81wVGmCWYGBTmQBsQjQiEgofF6J1pDc3akPHoF11K99Dwfbi0qNm0DR9xXXpx8N+J+XfUV/b//NExGAbQbqYANaWlZ2rX/DFHnMOP8fcR8Cl7gMhiZ1HZZkBu6WXU419I8X3NCeKyWJC4pFk/LvLSShl3U3BY25x01Brs5LSAikqWmGUvtRVFD4Xhg6F7vxOj5qpCe5y//NExEYY4UKgAM5wcLfrK7K3K1y5IO75j3/ufIysrLSzxtTmPuEEvi+uqvzuFVq1q9Im+HikMxAIKgiuCO4ms30dUMOkhm16aSnpeWWvwjWnhlx7pqmGtVNr1SF8OqVk//NExDUUOSqoAMZecBC3fwfUetknvXcNblTt7dTU/kZcrd2T1noIdFHn5DgQxktvsxA1IPpWjABcazQQhyK9uAVSxvuE06/3XRinP9bPEUt+OTikhU+smsoEgsSYkTsd//NExDcRmTKsAMYScGLxlSJnwXhurYf2fnk1sQq3btoTAPK/GbgA2eFSt1zTznJlMZapJ8qaVyi/rKGLX1a87/5v218DL5Gm9yEJVmhcPYNDIp4w5POSSxVoILIR1774//NExEMSITKgAM6QcJKv7/6xWoYl0Eg3gcN+I+to04RhtjFz+xSAkXI1TYZR2K/qrz+XceZf/V+kv9Q1JXoYVWcMwFWak1DUqAiT0jf/zzWf/r1B2ivfj5HC3JFxUiLA//NExE0QYS6UAMZGcNFgJEdFHy3jBoslidFrx4ILBseG67UrMqBpCFFCxRjCEw+bRWg+5y5ArSSaPGK1r/nRebetD3ovNi8IrFidHjTF8WrrMm4Z3gmYhE2WvJt03Y/s//NExF4SKEZ8AHpYJLaVy0RgcUVXcNHgkGB6VAgtYrYQbcSYfCwYSOfvWbARpC+juQhGKsN0oY21ymlI9QAkeW1D2uc+eqlxvqZfmfeFPiQxAaUJ7BodiFR8eDgRHJLj//NExGgRIPaAAHiEcBIxhfn2Rc6m2l99LqCXq16EKQ2mqCouhw0NnEnCgSUFCaK6lOuvei0dxKcIZ1HuzKNCGCXhAEJeEtFRNSMmdqEupqORUq2xGzNpWz++6rXZFtr5//NExHYQYMaAAFiGcPf7UduifRLI/ZTHXWtkdnqQsSoKQ2PKq2dq2f+TuK6n91yKiKbKUZnu59LnciUVmW+zotG5EajVe9URF6dMz9kSlutLT1f0ro3c90K5XnI7qeNc//NExIcRuxZ4AGhEuMqCqs4YWbpOd3WD2bFg7wQwruZvtp+7e/JPTwuOyHiayP2w+pJwQUgggAyGZyKZu+RAggOIK4QosIx/3t38j150Y4tA46LPir3l5yaJEHNSUFjn//NExJMRovZ4AGhEuXanEF62UojSQgJjaodhifbAKnTFikBK/ENhCmOs+HBYiDO3AIH+PPIvnsgI2MJ+FbUVuQi2nifZZ9wTMFg1M3IoWCsJj+JgUqMx+bIAUFIOQJ1J//NExJ8V0cqUAGGElBVel5v6+P//0R3IFJIAI725RzGBwqAgae+3///oaVFqmfvTwiMnMMJ8p1PmSJDU+SK2zWnU7LwOfFK1OKBjdPn60ZHclGUBr0pIxgz1K9+2vyJf//NExJoZoaKYANPQlEMDBw063/aco7DQNFJPEkRyWIh4DcpCQeG4HTNDaLRdPL/rO2zJrPTPzMzs9Mtd+Y2s/oDmuvvL/jNpdBWC7V6Xq5AKbBQXWK4wFBDdThZFMLg9//NExIYb+ZqUANYYlZdLVzGHAUCqnh6hUxWYru1VWihKUNSvl8w1p10FFqK3l/Qw0FNGcYg411Q4BFAYIDACwDXRECKCL5T3aTI39sAIljyULOZmlvirr5rT7//muVpV//NExGkgKfqMAOZQmBFF1b+k/4VK2i0xtCOaWtP////2GS5UcliWt1I0CEuaLAMdcZeQyEzOlZNwhkeA8glafxo9BcizfykjKjRBgf6CHoaGi53tlbQBAMMRNSB1BW4I//NExDseefqEAOZKmCM5CpI+T+taGQzaKgtyGRMSVuZRAlIZhIH1UqE9Pun/1fRxRFQSOINq5HRFZ2Mi3DgdUSEaP///9yngVosH15FM3KFshVbSqMOvLXBL7ASROGYG//NExBQXYfaMAN4EmGMPUuTKjkvH976mo53/q6lrlzc1QEAUYLVvKDhGI6ho8a+bBiO1urU/045M7Sg/mb0+n7+r+gu/dugb1Bv1DjO9Dv////lD8JjFnOV33R7MDBDM//NExAkT0PqcAVp4AApZLHTQFmLfnuFqwW+fSpXUfP+o61r95vA3/8nK47vDZyoHE7y9MAeJNn79Tq8n5JdfbYqJygYJf7lAMliJ/+d3f/////qVZWZS22IyVZ3DJxgY//NExAwVmWKMAZp4AATUPygmYcUEDAgaYoCzZobQHcZK+Yn195iz5VWPBzX/XxEisC4Y07XGfXN5pY7CIa8+NYjQd179/uPf49f////+/wGQwc/yhRxxCq4hLmSB+ypF//NExAgToWasAZlYANlV4teXFIsxFhz1P3YhEP2PefS/5nZDvivRUq2wc1fWlzoiCgmfMnxKofcxjpZ1aa9Qx9OUMiAeavFx6ha0+8ev9n////6qp9ZTQyec+AOKSqn5//NExAwVOaagAdlAAAGikaQadMV7WeeW5d7T2efhhX/f/TcvCrCVarVS4qaOLMBsIoeABxajDFPMKGuQJSA+PPFEEY+qZR3NzPT+i2rjww8MNbM/kzOrzV0G8hkMOS9l//NExAoUYaqgAMtQlAbc5zDtBv6loTopVGhs9aXUyXpVIL6l6u/0RogsYLEioRihxcDh5bjLHM5W7ChguaPxg3qKtZaHulNcmjayX/PEv///qcbSlbH3o0ZQq/cYhtSs//NExAsR4aKgANCQlH3rBa3soXsOyCk3Lo5f5D6y9PMTUcNGQ5ImFwUB2HpqRw7DaQULQq0ekHSjJVrz/SuOhP+hDXGGM///+XWv3i8zxOb7FoxNYfALzWaRLKXVFO05//NExBYRUaKcAMiSlHiu/VP/8///9XG11iIqFzRCyw5FOdotQqMtLOyVx+VLPUqr54XCniv/8y3///6KVbM5WGVIOuslkSbhz+AZRUlVAWAWHTBHEKs8lNqj5v9f9S9O//NExCMQQT6MANKEcFLOIcoZgKqoZ3AhTsFEosi1dNbtIKu/Je6e///06B5Ir5CebTifxekQW6SNLMrrEgMldl/YkA4Jh0bMcs5zTPb/9LK3q+UqGda3KxgxllL8ysxv//NExDUSGgZgANHEmKddTaG/9dDPR7mwoaYNT//d+V1qFLnAYgrmJuNTxjrgyCNVKblgLA8QFaiZ+cppx6Ui4WE4wY9BBJCIyxetQWUxCygsXPqmiCK6L3GaE0vGpvMX//NExD8RMEJQAVkYAK6Op7KPpiG0F+6B1QHOO6WWhDftylboVsevRoQBgQLXMYWZ8+dHA8G74d8sYxMdxiSiaOzY+YrVUdFDtIA3JyZ2nw6r6VXPw05JCjuIAnDh//VP//NExE0iAyp8AY9YAO2rn16o4buIEPhslQPBqCQYV///7YfE8x88GhnNpDYWGhLs3//////mOJjjl/5vBmHwjJmjx0Inyk8fv/x//n////971//XaTt+310bRFdHpIe+//NExBgR6xrAAcEQAFEEIZjIU7EoQqByKgQAQQRpFRkuYRzgaZCEKKBgZhKEOHHcGd54UWZi0YzsdCB0Tf/Uv/9////RF7aPl7IhXUUR209be3kVRgqykIjKQ5nkYeVJ//NExCMRIjbIAAhKuYxCEczqGsgixBdhMpr3+HXTPguW51EDwm6BUZE1VJumGJU/+K3/////+WQxDEbdfJVYWOK71Tt+9aTPOxRU7GlNqc1DMKiR6B8VRQ6UPOdDoZ7q//NExDER8rLEAAhKuaVbEZHshWcyWUut3kFmp+H8r9d1YbT1M7OmIRJx0EL/v//r/X/mdlJGMQPIf0dbohhMaBDF+l9k9jP1q4eFjKpSmM6lIVUEoqQ7KQPOhjVMLFgs//NExDwSoia0ADCKmPbBpbtQdUDh46FDou7+tcb3ar8mGoehFHdkqYxpJBkPIeIanMibXpuJ/nGr7+op9vsxFirjxYQEQOEBVFMwfVmoBIiVRB8P7JePBkTqgg+CFtzT//NExEQRSTKkAMvKcBWqsa79cYIE6aC7VwEHAt/Ie1D0C1uJHyN/v5ATe4ssrsPgEidDEACFDUsJ5IYqnjcWS3MN9fq/sdTOJVNqPzL0MPbUV36N////9BbfeZWVMh4z//NExFESgeKoAMqUmBflpGwwlJf0j46DUl1IxtzEJf+jE3Pj2oriLFoAqPjFOAEBKo3IiWAaMEHHBaNl1R/X9eqJsimsw+cRZ3sc+h5F6rfeZt0BBFT1NbQQGQgGaHvJ//NExFoSQd6wANKOmG8MODuBRY5c+V/v9HhndqYsXD8QBBNLFwkGBkAKAMQFwFAWJlBgBAVbon//29dUEjGXXWnZRVr/VaTe44DEi9T/Osn8ZNRuItcV4wxa0J1RjYo2//NExGQSad6wANIKmC8J7j3j0tePVx1GiVTX0yJqOMyZZiq6Pr13Rm2nynJl1O//aSMdFr2f////6a+qsuAT+IQ2OAjRcDXHVwxYBTAKD7it61PFzHUMWjyHbbxr17UT//NExG0RwRqsAMvScCIVkw61hIqkKTEGruWSjbEoxnTUVeQ68iZI/+owK/RX/////pWU27wjKhFK/AZUEHNHt+34wEN6VM3W4jjv4LvawmO5VH8i2WNpW6YBxnDne5/6//NExHkSoRagANPScFvjF66xquqVtbxIb61IIqFh//2FAr+7/////Uqm+6VWZMilsuMEiN6EYC2QzF4D2b/Ghi3ffSXY14fkOEQcam68DIZaguERJpZR1y68s191yzQm//NExIESWQ6cANZecLN2Sa4CRX/6Bpr/////6Yd7GzAFxq3OJKAnoVATdFInpKAeSmWSRb2+Tt8JlkrkmXiwwoRYkLF5BMXcRbSSvmPGD77v7rZXy6EIq8z3eup5Mx+v//NExIoRgQ6YANYQcP///7PGVbWdMFBIiLrsMmFgpQKPEmWMSI2PKJu/qxAajOXJhoOX5QLrkAQNlh+YTg7elOoGslajnvD3djjejyf0xNeRwjWeH4ARC8MU/1gQ4cnH//NExJcSSQqQANPQcC8eJ62GMXqJJy5qrGTKN1dvG9ZyPBRKcbquSdvJSxC9p9oOv6eDO1p+tfnFd4QV3EqUaaNE4RaNfmScc7cn4NpDwgc9lvbElkAz0UyERJWPWszl//NExKAUMQqcAN4ecMNNOpePaWDqT5x117QGCw7qq///e5+lKGpVq7iABRCzSNr6C0p2KrADY5ybXTISlwmHaC8mzhKezk046d38sv3Btnr7hrJ3JejEC4QqI+N6+ITH//NExKIaETaUANYecO0i1LBVqz4cVQxcw3OPgbGPUhCniceVQ8mi2EzDEK///+r5EKp/YbTTMObCNjeN1GoYY8foEiTA2CIFJq0rn7d1MXf6pdamSP2VF3utkjytR0eT//NExIwXaTKUANPecLngyII1FQTLWoHO2w48jHxcx7UVi9MssQoK5HqHCUJDT37/LqJOTR//pTEgPBCU0EuoFFx6ASKNAkRKhASsrEYQmbA0vmp/RUbQ1r/pe3Pv7j7b//NExIEXQTKQAVpYACQZrKKNr/oT1P+7/5d9+vff2x+ytx2eon+b32/4VclNLsvWpzTc/dv+m3T37dN9MneuaHoaZpqNpde1o+X6Zu+4bG/3sbBqWD3BDuNCaIMfPSJ5//NExHchMyqYAZlYADHiAPjwkCcN5UCYAYOuA7iIFEg8LB4WmN//////nNp/T/+2///9FtWr6IciU/ONOljTXMsYzFmQxFUx7MVMJ2nkhDOKyclLFSYlPJhVJQvBiQsa//NExEUXQyKgAcVQAECDUncQZgihLIhJD8TUKkIfgWisShcLJBGn///z///n9f//1X/+tf7/eur2bun01V91rUoswxGu89ytzWMPImsecYWHCiDxIdmhIRJEiw6Mi4SB//NExDsSWxqoABBOvVjcSxsSJDzCWTFY3GDiVX///////1////4P////9LLRtPVXqZRDGaer3WaztpQ0ub0ONLj4nG54oMOPGopFTnGMJ2KkCp008IhCLBk4HQ+IBELC//NExEQR4xqsAAhOvTiKfGUL///Xy///mMv/z/5bp///////v/064n////lO5rviPi2kZdr3Tpawt1KKVJUrBGIKKymHjxts5BhRRg3BqzDQhWCRCsRiVWL8ri/NflD1//NExE8Rkx6wAAhQvPL8JywnM//fzpmFf/////r1+J2X//n+a5r2//1j5X+aj1WoWtVrXGXUrPwq1+pIq1M6rQtaqNFTSmcFIfINlczVWdUX/7sEpk5+unsyA8QUpKM7//NExFsRKx6cAAhQvL0dylZ51ehroamvoajsbIlVlZvq2y2ZFutDbev9u+ptnapb7lqgb5QXHJP46ghKrwPCgdNAEXcjmg1DqtSDoZKiqUFg4KgFTNLiwOnQqNMpvLWX//NExGkQotJ8ADhEuXY1KN0OOFfMXJ7Dtic024kDQFa3iU6oOQNhU71IU6kAfU4FIDK2XV5L2z4QjUh8vHrAgLjhg0ECb0ic+QPqDCYyKLeUGjrn84D5Ay7IA47f58oG//NExHkPeA5sAHjEAF8/WPEeQQbJCdUMMax/JMIP0M35sb9C/Pu8XJ3MtzSuBi5XuXgzM69Nn4EcXSXa1LXl4nD5mtRd2UirYvNPOHzHo81ZaMcMYIDhxl4wBltTUZAc//NExI4REM5wAGhEcCbqaHFx2GsyY/fKbsR0V70hMChQy2RmQwyUoJDAShnYBSqR5VKJ3gq9pY6804c/pLDw055aIsNUyUd76a+xhZxqqS1BorXdFWyWkfiCq0O2oaTG//NExJwQ+UKQABhGcDaGBNqrIA6tvrWJjEJSWEIfSeiRv5KwMg453UBmAXsqztcxHP9UfKntrTQ9wBSrqfv/f6V3MdUq8jDY41oaX7Io2xEwKNPKjXVFZ6HU87cs5nDT//NExKsSmTaUAEjGcIK65/B2QQDLdGMEF6ISGTwFl1Dy5wqKz8Wionmj0Iiv+3///zmhKn0nK8eT9Kk4cUjoBIDZCgiHWs8+SAwi/1LcR5OKFW3+ayQENSsQVE1MXhIs//NExLMQMPKIAMsMcPKWzXnjGAMKrUxChgcgUbCBh23vRQQDPbWDMEq13oUAA4ItDWEWSKlFf2+eZ5p/p6qLAsNlxwxNSg8JKlSMw84gGAUbwion////76Z97VifhAFE//NExMURWM6IAN6ScI885IhN8qKRjA+cBPgJPklWgrCgQ5lnu7jpI52/w+lgGk/uMy1lrlm9TZvEwe1DV/VDAprULJbd/40qYgmW2TMp7dd3XLcuL61WmZ/P9ZXbff3+//NExNId8fKAAN4UmPv//63Y5+sqtvPs1T0Ubz3+WeeufldpJXT4XorHqWL18aW7gD97v///rOYhUwzVUw5vGVKNnJWSBKT37LXACiB4PJrV/5kLEwv/5msDCvs8/bs9//NExK0iCgKMAN4wmOf/1oR//2Iute/HUfa6xSfzs+lSZFqQL818Ot1DEIani650IgcxQqQMTI03RLpvu5kUL0zEum7McTHaF0JSvHab0Th0gjAnzVSReJI6nqqQ9F////NExHcg4v6IAN5auP////Q7pLTfWs0ZEUWNzm8sFDzh5VUEvzmG/EIUGa052xskABwOt50K8oLbcfn6iYY+ZjCnrVDsPquYBJAG6OUsHYsQAAlBJzzol8OWCPF0omCR//NExEYfAvqMANtauTymMCy13MDZtMuFKtluYGzVHByD+RrIIF3XWw4um6BspGpS0XW6DPV////+/qsvoq0KZeVkDrdLlXggUBm0oOvDkojbqmMfB2+nMFqNgdp9eZlB//NExB0X2Z6YANNelD6jHvUa7Zd+bx5t5ePHhXqOkRkjqtGMV8w1PEZH79rsw/VN4vF+9/NN/+lc5+vaIGAALya6B7jiBLUJv///9BcLOQpFkZGHwA6njqUWgyqCDSPC//NExBARGTaoAJ4GcGGsatZasSiW5/+uZa/NCJCc0U/NQ6EYNKoVSCqSrsGYkeEoCr1JvZO6E3HH3bLqr/////11q63q6Bd3D3nGPUba3iDHHwXlR7htwIH6iNIUmDyJ//NExB4RSLqoAMvYTLZYp3xnZ+nI7y08sRBoNA0FgZNLG7oKCj0kmFsWLyMGRRCnUJ9LTCrD/wjYOFFw7Hdx0RNGl4Y7fBAEt+vhNJ4H/B3lFEGCrS/8h6kEjISkTJZT//NExCsQ0MKoAM4eTI5a/5jtiAPFhBo2xGTVTn3w+oDCc3f/+irD9Yx4LaFrV/xbIZsJnfldl4r+D7XMktAFX7H4RNeEK5hJFyAqN/PsfUzrf/519VhWXB3fF8HyMLnk//NExDoRYMKsAMYwTIPnVLYtp4ox3/5yuv/naQCwhy/eqwEAx0GetvqGejPdSUKghq1z3oU1ius8G4SWpl3qZbcsa9eOQfa+osSXQY3IXzt0Y2gQKVFgYZij5pkEt3/9//NExEcR2VawAMYElHXL/+nET7+w/Wa2Kgh5z9zFWAx1DbXaK+3dGmznhWaV/f+YkWW/5ZkUpwrwajM/1nKwfD1fc6L4S/4X/f/duuS4NwStOqFO79SBOcuuAI/g1Za0//NExFIR+VKsAM4QlMOSJMPAMSLATnXd1gKgLX3Grwy1lzZ3VNDTswdczwlSuvqrchzlrDWJKEhZ4u9Z1P4ADPduDBKwOiISurRDv6pGmbXmleo+aJuZlQDhwzVOx0kC//NExF0ScNaYANYecMcLGA0K9zTgFAIYdqWYPpDs7+qgfg1NhCBBrjg79gnADHflHTKWKp6TXx/8FPF44Qw9//87/XVYI6ipMQ4d7xFFIw5iahkTBkhocvQlFxkRWcNm//NExGYSWUJ8AVxAAEH29Pl1Q2EubiYkiJobn3RRHuS5oJKNo4gvu7InTc0LhoJ6WiUBNwG2tFDjkLhoeQNAHWQhNQW8dwWum3m5ggbqyiCNheAgBeJc1/6/Q6jRBFjA//NExG8h2yqIAZpoANUEP///1pOmpTP/////f1Mpk3QTRSQUZuqCsLUArZHz2HLrgwv+EPuhH61LI//KgpPw7d7n9X1+SnsNQvegogYUeMJJNEa6ZADaM3gmYLVhFo0K//NExDoY8eKYAdlIAJpXESG1UKGLpXHKRIlc2Palvzfe7/4xqX+XH1sbd0NdSR6Eyv9P9n4ipru+QGSC4Chris6iRgrOdGEJ4tw7wMaOeVbUOWN3kPWP3+DDgUiNiMR0//NExCkV+P6MANvecIrGwdCWTLcK4EPY2ovhcE/ENMnY3yWuUaIww3Ft4WGhQ2qSDalgy4AhQom9n5ofnMq6+DKPlCqJjZimxxdAcub0vuZ9osVu5KU/Xdxp4DYNTbht//NExCQYqQKUANZecLxg0i1DETZcvx8ExLioDcJqDmBzGYBnDiWU+PWOMyEKMcgheR1G4LYOBho4PwZBcCEaTbBZsm0wUEBx39gUQu6utiAoOMV30IICKLyt3MOkFPSL//NExBQTSQqoANZYceYbDPdqQ5Lt7lc7lnK41lli1roFkdfOysuSjyDcPC0OZuWWoS2VC0yWEA2rhgt4ZWZ7Xifs8fVJftXP8Vpg+2FQQEEX5qMxAEWELjlo3HKHdTI4//NExBkRcSakAMUecK+sq6y0n2/8Ku/Dprw1xHiPBuzeOw/7tF+LqVl3dTW1Ae6DB+yCaxIeAz/+MYBsy8UlDskiUdjJoBwS6Gro2N8hVKZlwrnNR6Ldx3hWXX/aFN7Y//NExCYRWTKMAVlAAetoFRwNg6BUHy0TaqSbDMcuoqaUcULUULCyU3pL23SqXmZhzBh2Et6Z+TN0bkl2gGbSRRKvflUbJzgMhDXujCuD/U60wxL/t6EGWq1PBfPP7fTh//NExDMecdaQAZl4AEhohhUjCu0NQvW/r9hbFer8xx/4UjWhZ9/Gv6aZUssKlia2tEo/Eld1z///+8jz00lFtkrC1uyWsD35YXsMMyorDX/3ftQildXF9CiGKymOEEMa//NExAwRQTKsAdlYAKrgmWy7vOPRZy+vc7+qn+n+//uubnhrrt6TpIAmkqw+ASb4N+JN6dEprJYWOB6c+h6xMXZ/////65RhdJAlKd4KLmuk/FK+wbS1fkHwwkLkWmDG//NExBoRSUqoAMnYlKnN44+vQlnbTmI8yoJE0mUHo2p5m5ToCaxUul6z2sRyWSAHjAmp6jqm//VV7hdQ7ETdrTSR+ieirjgjHixGqQ5rXKvN2yn1fxXzf6/7P07bAhk1//NExCcQGT6oAM0WcAPgPw1QoP7VKUOva8tqEGqIDCdMo9cgHV1qxwxhopfldHFAfNG6xYaBJSW4oFlxdxrzH/RtX77G/LveSrUkAUsLLBIlR4f2n1w/qulJvSlM5/i///NExDkRUZ6oAMHWlNv7vtcmU/+3///s+irL8ElyZlfmSEsBlcdc5poaBcy2RCRkUYbG3GzZXq2r6Pq6z3IDLTCmLxfJALu6khGD6blCzGaPbW+p9CrQ0zW/0fp///3q//NExEYSgaKkANHalHorqYqU7qEosWFS+WJfkaJ7MEpjBi4tigX4jNUU8q3fUzv0+/0a83OSRRAgNorGgzYoUHV0huK+WnLptX6kpTBlhMNC1P/pR//+VpiH5eM1pwq2//NExE8RsWKkANHWlDbGkmFgg5V/0EBqiLis00U7+MZs/nzL5dR/Wj26K60WspFj44SiYkgCtBcrEkbZkSyJNMC8Yl0unZ4S/6zv/4aqER86QohDGyEgYGelyY8EOlCZ//NExFsSETqYAVloACpXC0IyIUaDLVlVm68JdakZuOEOQZ9GtNMcxKk4qbU72WX0jUpCWjDK11FM8XzdSAKcFRFwdRlmv9AzdJqY42Nhgh3jCEr/1Ghon00xgh2iUymP//NExGUgwv58AZpoAWIo7Ff/qZBf9iGalaZLoGakXWh/////mqRgCMD1ZJb76kikIjONJzASDOA3qUuR6Rpv50lPjq5j/a/f94bT+L+P5/v//daw8FnoAAsnn7Iml0cL//NExDUQkUacAdpAAIwfiE8pOvUYJf7axoaqlG74IKkTKzGDG6kCliS5DN8r9CAsTPH7ZbMbMftp/X8X9flMPFgU2CsAOQfJhy6HQ48QZkXHO8NCPEVfN1Gw42x3i/xH//NExEURiZqYANKQlPVVq4vEYBUJCoNUSMdNSAfxFNfm+LzCVlGh1DWyWZ20N266f/7/lb7NNFkRqQIX4k43YaoLDIJEcJnBMVEoeLnDsa/7/Qz6v//+KFkqv5TgOPNQ//NExFESmVqUANHMlMkjzmgm/dtF9jueTmnYOunFaN/06f8f36XOCh8BwAUzYdNmwgsIo5Rcdyl716N6e61Iow896PU9X6///6l1axOvWBIKa8kJC5ujUmoAsJl5soE6//NExFkQ2Z6YANCQlCBMSHnWrLr6Ovv1fbRr6mPPF2EwS1JFpAauo2NHRFGpEkNRCXcsAhp6vt///+3/DSp4b18QRC1UyjKaiqeD0ULOj5mE1GS6jJ0pqylOhvW2eW6G//NExGgRSTaQANNOcO3bq3SzzvKvWDJjl/KLbEjkwqmJEiFLmUWHmUKKWNLm/+///9upjx0tvsASLVYlzffcXFujOZOhX3QnJEksQ3QyoYNhxxAHSRHGROgUC4nE7R7n//NExHUSeR6IAMtMcN8IEBGzkR5FhdItIQHVOW1Oo+KW3JY4vokaVR2qpaJ4/p6s/l5y+oNzByg1KScIpW5VcXP4iOxtbxj0zgmglcNKkLVh8QFRMJIjcTvhAUZpLHXu//NExH4RUO6UAGBGcNMWJdqHgGfMYUW9gpoB1aoEO2ucDf/6MUskG803LHpjQhqCvCXYBDD9ArjBadiA3QfR3dv+X7Wy983/i4x66yb8Ptv/v9//W//DmuIOvLHvPy9S//NExIsRyU6QABiGlAD/+tH/nsjDRjIAmjLZkZS8wUoMJ10ElAV/q5t5+ywFRGImKcywkktcGhR7AGSWFHsP8X/UuJBrnkBj0Qai6jw14DKVCx/9WT+t9qLPRyi3L0iO//NExJYQsJKQADhETW+prwhZ4gnfB80LmbnUXQkp6ZOSQhs8UbWmFCrRrCiOSrfK6mlGSpTdS0cyYYGSzx4SefNqIPf3uc7KeVP+IfBCu6ak5PTFcYomFpkkMnWKVudI//NExKYQ2VKMADhGlJXpymdFUOKceLELT7Wix4A7lCNRMlZcRc1n55EYxb0i20aWmCpN40JC9XzPAF3FaEgO9JC7gUAj40jAIvhAmMQk0IYe3YuQnQuyBV3xeWRm/SYY//NExLUQ2YKQACiGlDECWZ7GeuvrBQbbrPDFjNz3b86n9OsJe7////73w6qZqdX2aAfqvgZmA7HkRMl018WDHE7mrFxagHWacbBoPGg5njJb9gzfvY2k5uu/tOPhEXF3//NExMQR2UaUABDGcEdP1TWhGVlOrbmrKOYbvieoMzEKfhiUWElkyrMBZIt5OMTMIJz+wdUcTioBLDwx9Jp3BQPMjlDShqlhpoxkYsuGn23KP2r31Jf//Nc//5//j+jp//NExM8R2NaYAH4GcLlfQ/M1hEOJQSE3qx8qE4gdQsFD4vKUnTSvKHwMBjn////+ilY4jAygpk8liyhY9ESAGHZhpL00y4BgtAm8TcEAcgAgsHwHLAHckUUjQv2ASgwy//NExNoSwSKIAN6KcDiEiLBYckmiR4t2xwluZNqNexa5gf1Ew9crqnhMGJAjGDaiDzVx/xIQlewnmNJ7ZelSS5URy6Tx/79f////////TVS+froWAuUoQnmJEykXW8lB//NExOIX4cqEAN7KlGcnHaUyeogBRhZDm+CIpEZBCYOMTcDmAtVZPcgFDbjwmI6CIrEGgXdineO1vVeJ2d/Ulv/qpfmbxxT113/LD83syfU5OBa/vrzL+ox/5lLbe51T//NExNUdIu54AOVUuGM/EZ7pY6cpSfm6132ztceLhGIlf///6ax6x9WGt3IqFExb06sEY40GhgDktdMVDTdf82QXaa2woJOY7KxDemDRmhfPYzoGhTFkwUFiEsgBoEu1//NExLMeycp8AObYlMlFzudPTf+fcstYb5zDmO656WeeMKGEGHGqEAaFRklw27M8Jr0qmqPIZK7e+++epsyByUPFyqX////9kMJV5eviAcbYC5sjZmb9KqJ0RQodyYdd//NExIodEdqIAN6QmALDsgLQGqQ+VpeR2Hl0WcAA4+mgck8dR24ZsyuL2eZ1/7vPWX7785rOdp3aeZyDQYaKiJkMizXszbLmGHQQCLPUp4saZp/////od3tYQOkDazKw//NExGgXwX6UANZKlLpTQglhYWZKsRvnLcYCEATnOYYKEPyVQwMCFGFpoOMgPPzaRf0bh97alnDDKvT4a5reW82xxWPctPHCzQXiIJRzmHPftf/6nq8vs6hcMl////////NExFwXQYKUANYOlOmYynDAnkCUahwxRBs7AxkWddMESVWOXks3PTQDRgaLuo9lqlLmbgko4wOzFmGFBIDukjdIPDQ8+JY+nRPZtUFgYDIJgEjZ27/rWUEKv7xqFbPI//NExFIT0QKYANYMcJBTNtY4rGPyw6naYWz3NhMJMIly6mEhEJ8oOGRqQcxES2lLXHgRkiICQroMMEfh81LTpIddqT9qkNmrEhyzJudHQtrCC7GXf9t9Yc/3KciS76YO//NExFUUQOqUAM6YcN2ySAkctbEKbwJGh20TH3XgASourLnjJi1WgKommjBVDkxyCpSYMapwf56OVriNuD0XdaguZ0YemOmpU8eeHpoucH0f/0TX/SVZ/////+qk+oAJ//NExFcUwN6QAM6ecOujqSlHY6aWULwCtysEXfYSXhmgEQD50sNixVioMAxmielaTssQLKd6eqHPbpx3NRUbZzFf0k20JLcj////7//////0KpVegM2TIVKRDyhTYhwT//NExFcSCNacAMZecJXMYSdbI0DPJPoVS2lKC4etDg7r4wA4lrpACznVIv931kBxZ2ynpTVbrvTr4rKcam9FCO/lhnK8LwvJDZjSjT9ohODFdOWDxjVrKhrN+KdoJH56//NExGEQqM6UAM5wcYCHOon2c2itKKWdy5rVA/wl+Bn0ZVZjUvk8y2FnMtNAsQ1f////qSqc23Y7RZHARicBi0PDjSLUtqgsHRXntZNi1wMAxmZLjS6nikO3YIgGWQye//NExHERWMaQAM6wcMeS0GePh6VQNlKrlpZWeKWK13riRVz///+h/8Rh6oOcwdTMthr77gutUj3hdpl7zg3ZnNL4KYl8Breje1txmkoH+n6rOq1iPpqASgHKLRDCbQ09//NExH4SIM6MAM6ecNWjyH2uTzVcBJ8xX///6P9Y2mJuYDF4u0X4X9AQxhqXyKLtOe2BZcYd67rjWpRD0vjUEu6/rlQ1NT239hmloff5myaKaoIG8LbtKf+Gs86TLK+h//NExIgRoMaEAM4ecM4+///+y53VVLUzRoHmS2EHg0ICgxctVcDKk9WXUpgwDDgga+taAQ9UWAhpIi4xPY5RbICZkHEdA2dLggoNYJnI0cJDjADBcLfBPosgdoABAGag//NExJQSqNZ0AVrAABIRHJdEJhkiPEolwnScQQQdMuoIo1E8tJJ2Veve//00DjM6qDHT+tR9HWjU5kUm/8jT2v+bGK3f/9DvySoDRBoGScSidnUfC4xLGZ07WeFlWvFK//NExJwhSkpkAZqYAKt65P311KnGY5oMdiSuIT6IzEJDFRi22lKn3fQo0lY3vzeW4j3WX9b7zqTWf7VxvVL0zn0nzrdNX/1r41rVoOqXzjNMY+v651u+Pmt91/+viTWc//NExGkgwloQAY94Af/3X/29ZdTmRqN33OBP183MYg/8fbI2AtPxAiFzJofV3KDau0iZ6dN6mp1BHWXNusbYVKDJxbtdJ9waAqaVFxQVIJgoFjZkyTROkAZGmGvSXcml//NExDkT8MoEAchIAM0OJCI9TYsWiylPjhMkul9nQyae3PBSBk1EtmEnZqv9WgKH/LEmS7Ph1gtos7PP5sFSQUmbyKihRwKSKFSQV9KJsU0+Kif0kd/YTZvXgvPxRf/w//NExDwRGL3oADDMTbv+aK/4Xnf+VQwME5MrKFBA0cjVmCggaOhkrK1lRzI1YKCBpHQ1YKCBg46GrLAQOBiUJJVBiyYGqiDlQYlUXVREqqRKIlXSJRVU0iXdpp//+lUY//NExEoSEQkUABjGcSwugRA8mxPSCBZMcIAGEEE7/7vohboVd8IIIIIJ3/93gAIBgYsOBmEEE5o8AFAxcABAQAKv/1ziJ103c0EE4gn03eAZhAAg4tIf/BAYjH4GQDI///NExFQAAANIAAAAAOfgHT+j8DAzN/8PAI5YT/wFEhJxLSKLJMdoUBQCFUCaqX/eMev9UozVWqlG/UoxqJIMJQM1UmNmoUgwEYUaC7/HI6L+JIKismnCgqEVBYTT+PFR//NExKcAAANIAAAAAFw37+b/////5dFRf/3jYqI475ZlAgoIOEdDJWUMDBAwgdUVHZ+qf/ll///5YytZY8lhkayqwUEDEYJiyB4qKC3wKKigsLCQ0ZBYWFhcVY7//+sV//NExPoZIfHUADDGmRXioqKizTRMQU1FMy4xMDCqqqqqqqqqqqqqqqqqqqqqqqqqqqqqqqqqqqqqqqqqqqqqqqqqqqqqqqqqqqqqqqqqqqqqqqqqqqqqqqqqTEFNRTMu//NExOgVYUXoADDGcTEwMKqqqqqqqqqqqqqqqqqqqqqqqqqqqqqqqqqqqqqqqqqqqqqqqqqqqqqqqqqqqqqqqqqqqqqqqqqqqqqqqqqqqqqqqqqqqqqqqqqqTEFNRTMu//NExOUReTUcABiGcDEwMKqqqqqqqqqqqqqqqqqqqqqqqqqqqqqqqqqqqqqqqqqqqqqqqqqqqqqqqqqqqqqqqqqqqqqqqqqqqqqqqqqqqqqqqqqqqqqqqqqqTEFNRTMu//NExKwAAANIAAAAADEwMKqqqqqqqqqqqqqqqqqqqqqqqqqqqqqqqqqqqqqqqqqqqqqqqqqqqqqqqqqqqqqqqqqqqqqqqqqqqqqqqqqqqqqqqqqqqqqqqqqqTEFNRTMu//NExKwAAANIAAAAADEwMKqqqqqqqqqqqqqqqqqqqqqqqqqqqqqqqqqqqqqqqqqqqqqqqqqqqqqqqqqqqqqqqqqqqqqqqqqqqqqqqqqqqqqqqqqqqqqqqqqqTEFNRTMu//NExKwAAANIAAAAADEwMKqqqqqqqqqqqqqqqqqqqqqqqqqqqqqqqqqqqqqqqqqqqqqqqqqqqqqqqqqqqqqqqqqqqqqqqqqqqqqqqqqqqqqqqqqqqqqqqqqqTEFNRTMu//NExKwAAANIAAAAADEwMKqqqqqqqqqqqqqqqqqqqqqqqqqqqqqqqqqqqqqqqqqqqqqqqqqqqqqqqqqqqqqqqqqqqqqqqqqqqqqqqqqqqqqqqqqqqqqqqqqqTEFNRTMu//NExKwAAANIAAAAADEwMKqqqqqqqqqqqqqqqqqqqqqqqqqqqqqqqqqqqqqqqqqqqqqqqqqqqqqqqqqqqqqqqqqqqqqqqqqqqqqqqqqqqqqqqqqqqqqqqqqqTEFNRTMu//NExKwAAANIAAAAADEwMKqqqqqqqqqqqqqqqqqqqqqqqqqqqqqqqqqqqqqqqqqqqqqqqqqqqqqqqqqqqqqqqqqqqqqqqqqqqqqqqqqqqqqqqqqqqqqqqqqqTEFNRTMu//NExKwAAANIAAAAADEwMKqqqqqqqqqqqqqqqqqqqqqqqqqqqqqqqqqqqqqqqqqqqqqqqqqqqqqqqqqqqqqqqqqqqqqqqqqqqqqqqqqqqqqqqqqqqqqqqqqqTEFNRTMu//NExKwAAANIAAAAADEwMKqqqqqqqqqqqqqqqqqqqqqqqqqqqqqqqqqqqqqqqqqqqqqqqqqqqqqqqqqqqqqqqqqqqqqqqqqqqqqqqqqqqqqqqqqqqqqqqqqqTEFNRTMu//NExKwAAANIAAAAADEwMKqqqqqqqqqqqqqqqqqqqqqqqqqqqqqqqqqqqqqqqqqqqqqqqqqqqqqqqqqqqqqqqqqqqqqqqqqqqqqqqqqqqqqqqqqqqqqqqqqqTEFNRTMu//NExKwAAANIAAAAADEwMKqqqqqqqqqqqqqqqqqqqqqqqqqqqqqqqqqqqqqqqqqqqqqqqqqqqqqqqqqqqqqqqqqqqqqqqqqqqqqqqqqqqqqqqqqqqqqqqqqqTEFNRTMu//NExKwAAANIAAAAADEwMKqqqqqqqqqqqqqqqqqqqqqqqqqqqqqqqqqqqqqqqqqqqqqqqqqqqqqqqqqqqqqqqqqqqqqqqqqqqqqqqqqqqqqqqqqqqqqqqqqqTEFNRTMu//NExKwAAANIAAAAADEwMKqqqqqqqqqqqqqqqqqqqqqqqqqqqqqqqqqqqqqqqqqqqqqqqqqqqqqqqqqqqqqqqqqqqqqqqqqqqqqqqqqqqqqqqqqqqqqqqqqqqqqqqqqq//NExKwAAANIAAAAAKqqqqqqqqqqqqqqqqqqqqqqqqqqqqqqqqqqqqqqqqqqqqqqqqqqqqqqqqqqqqqqqqqqqqqqqqqqqqqqqqqqqqqqqqqqqqqqqqqqqqqqqqqqqqqq//NExKwAAANIAAAAAKqqqqqqqqqqqqqqqqqqqqqqqqqqqqqqqqqqqqqqqqqqqqqqqqqqqqqqqqqqqqqqqqqqqqqqqqqqqqqqqqqqqqqqqqqqqqqqqqqqqqqqqqqqqqqq\" type=\"audio/mpeg\" />\n",
              "                    Your browser does not support the audio element.\n",
              "                </audio>\n",
              "              "
            ]
          },
          "metadata": {},
          "execution_count": 50
        }
      ]
    },
    {
      "cell_type": "markdown",
      "source": [
        "More operators: <br>\n",
        "* Comparison Operators: ==, !=, <, >, <=, >= <br>\n",
        "* Assignment Operators: =, +=, -=, *=, /=, %= <br>\n",
        "* Logical Operators: and, or, not <br>\n",
        "* Identity Operators: is, is not <br>\n",
        "* Membership Operators: in, not in "
      ],
      "metadata": {
        "id": "sfubu24UbqjH"
      }
    },
    {
      "cell_type": "markdown",
      "source": [
        "# 📗Topic [3] Data types: number, string, list and dictionary\n"
      ],
      "metadata": {
        "id": "3eSrUoglRh6-"
      }
    },
    {
      "cell_type": "markdown",
      "source": [
        "\n",
        "|Data type| |\n",
        "|:--:|:--:|\n",
        "|number|int, float|\n",
        "|string|charcter|\n",
        "|list|[1, 2,4], ['Mary','Tom','Jane'|\n",
        "|dictionary|(key: value), [('English': 80), ('Korean':90)]|\n",
        "|tuple|('zero', 0)|\n"
      ],
      "metadata": {
        "id": "ZVFb5JmJrPXu"
      }
    },
    {
      "cell_type": "code",
      "source": [
        "a1 = 3   # a1 is integer #코딩너무어려워요\n",
        "a2 = 3.0 # a2 is float #디지털리터러시\n",
        "a3 = \"3\" # a3 is string #화이팅\n",
        "\n",
        "type(a1); type(a2); type(a3)\n",
        "print(type(a1), type(a2), type(a3))"
      ],
      "metadata": {
        "colab": {
          "base_uri": "https://localhost:8080/"
        },
        "id": "g-kvldqENA1e",
        "outputId": "ddd98125-fb9b-4d05-deea-849ad0dc3604"
      },
      "execution_count": 52,
      "outputs": [
        {
          "output_type": "stream",
          "name": "stdout",
          "text": [
            "<class 'int'> <class 'float'> <class 'str'>\n"
          ]
        }
      ]
    },
    {
      "cell_type": "markdown",
      "source": [
        "list and index (0, 1, 2,...)"
      ],
      "metadata": {
        "id": "HC_wMsPnNbzs"
      }
    },
    {
      "cell_type": "code",
      "source": [
        "a = [1, \"Mary\", 4, \"John\"]  # This is a list.\n",
        "print(type(a))\n",
        "# 리스트 + 리스트는 두개 결합시켜줌줌\n",
        "a+a"
      ],
      "metadata": {
        "colab": {
          "base_uri": "https://localhost:8080/"
        },
        "id": "LyTw7phONZHE",
        "outputId": "660d6b42-fe96-4b36-b5fa-683cbcd1949c"
      },
      "execution_count": 55,
      "outputs": [
        {
          "output_type": "stream",
          "name": "stdout",
          "text": [
            "<class 'list'>\n"
          ]
        },
        {
          "output_type": "execute_result",
          "data": {
            "text/plain": [
              "[1, 'Mary', 4, 'John', 1, 'Mary', 4, 'John']"
            ]
          },
          "metadata": {},
          "execution_count": 55
        }
      ]
    },
    {
      "cell_type": "markdown",
      "source": [
        "* index: Python index starts from '0'\n",
        "\n",
        "e.g., a = [1, 2, 3, 4]"
      ],
      "metadata": {
        "id": "-fL-pJvj7NW8"
      }
    },
    {
      "cell_type": "code",
      "source": [
        "a[0]\n",
        "type(a[0])\n",
        "type(a[1])\n",
        "a[0] + a[2]\n",
        "a[0] + a[1] # int + str = error"
      ],
      "metadata": {
        "id": "9Z5zLDGc7X13",
        "outputId": "43eeeace-9255-4fe2-ac9f-bbb371fd177e",
        "colab": {
          "base_uri": "https://localhost:8080/",
          "height": 211
        }
      },
      "execution_count": 61,
      "outputs": [
        {
          "output_type": "error",
          "ename": "TypeError",
          "evalue": "ignored",
          "traceback": [
            "\u001b[0;31m---------------------------------------------------------------------------\u001b[0m",
            "\u001b[0;31mTypeError\u001b[0m                                 Traceback (most recent call last)",
            "\u001b[0;32m<ipython-input-61-6b699a7a71e2>\u001b[0m in \u001b[0;36m<module>\u001b[0;34m\u001b[0m\n\u001b[1;32m      3\u001b[0m \u001b[0mtype\u001b[0m\u001b[0;34m(\u001b[0m\u001b[0ma\u001b[0m\u001b[0;34m[\u001b[0m\u001b[0;36m1\u001b[0m\u001b[0;34m]\u001b[0m\u001b[0;34m)\u001b[0m\u001b[0;34m\u001b[0m\u001b[0;34m\u001b[0m\u001b[0m\n\u001b[1;32m      4\u001b[0m \u001b[0ma\u001b[0m\u001b[0;34m[\u001b[0m\u001b[0;36m0\u001b[0m\u001b[0;34m]\u001b[0m \u001b[0;34m+\u001b[0m \u001b[0ma\u001b[0m\u001b[0;34m[\u001b[0m\u001b[0;36m2\u001b[0m\u001b[0;34m]\u001b[0m\u001b[0;34m\u001b[0m\u001b[0;34m\u001b[0m\u001b[0m\n\u001b[0;32m----> 5\u001b[0;31m \u001b[0ma\u001b[0m\u001b[0;34m[\u001b[0m\u001b[0;36m0\u001b[0m\u001b[0;34m]\u001b[0m \u001b[0;34m+\u001b[0m \u001b[0ma\u001b[0m\u001b[0;34m[\u001b[0m\u001b[0;36m1\u001b[0m\u001b[0;34m]\u001b[0m \u001b[0;31m# int + str = error\u001b[0m\u001b[0;34m\u001b[0m\u001b[0;34m\u001b[0m\u001b[0m\n\u001b[0m",
            "\u001b[0;31mTypeError\u001b[0m: unsupported operand type(s) for +: 'int' and 'str'"
          ]
        }
      ]
    },
    {
      "cell_type": "markdown",
      "source": [
        "[Github accounts](https://raw.githubusercontent.com/MK316/Spring2023/main/DL/files/DL_github.csv)"
      ],
      "metadata": {
        "id": "S-KG49Zaim0S"
      }
    },
    {
      "cell_type": "markdown",
      "source": [
        "\n",
        "\n",
        "---\n",
        "# The End\n"
      ],
      "metadata": {
        "id": "3cZjH9xIiN4_"
      }
    }
  ]
}